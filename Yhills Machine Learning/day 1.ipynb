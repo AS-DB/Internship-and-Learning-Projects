{
 "cells": [
  {
   "cell_type": "markdown",
   "metadata": {},
   "source": [
    "MAchine learning with python"
   ]
  },
  {
   "cell_type": "markdown",
   "metadata": {},
   "source": [
    "basics of python"
   ]
  },
  {
   "cell_type": "markdown",
   "metadata": {},
   "source": [
    "-->what is data science?(explanations)\n",
    "\n",
    "DAta science is study of data in which we find meaningful data in it."
   ]
  },
  {
   "cell_type": "markdown",
   "metadata": {},
   "source": [
    "-->variable in python?\n",
    "\n",
    "variable are container in which we store data\n",
    "\n"
   ]
  },
  {
   "cell_type": "markdown",
   "metadata": {},
   "source": [
    "-->Identifier rules"
   ]
  },
  {
   "cell_type": "code",
   "execution_count": null,
   "metadata": {},
   "outputs": [],
   "source": [
    "name=\"ADITYA\"\n",
    "print(name)"
   ]
  },
  {
   "cell_type": "markdown",
   "metadata": {},
   "source": [
    "-->Data types\n",
    "\n",
    "numeric data type-> (integer,float,complex) int , float,complex\n",
    "text->(string) str\n",
    "sequence-> list,tuples,range\n",
    "mapping->dictionary\n",
    "set->set,frozenset\n",
    "boolean data type-> boolean value (true false)\n",
    "\n",
    "to check the data type of a variable we use type function"
   ]
  },
  {
   "cell_type": "code",
   "execution_count": 8,
   "metadata": {},
   "outputs": [
    {
     "data": {
      "text/plain": [
       "complex"
      ]
     },
     "execution_count": 8,
     "metadata": {},
     "output_type": "execute_result"
    }
   ],
   "source": [
    "#string data type\n",
    "a = str(\"ADITYA DAS\")\n",
    "type(a)\n",
    "\n",
    "#boolean\n",
    "b= True\n",
    "type(b)\n",
    "\n",
    "c=complex(1)\n",
    "type(c)"
   ]
  },
  {
   "cell_type": "markdown",
   "metadata": {},
   "source": [
    "concataion:- adding variables togather"
   ]
  },
  {
   "cell_type": "code",
   "execution_count": 12,
   "metadata": {},
   "outputs": [
    {
     "name": "stdout",
     "output_type": "stream",
     "text": [
      "adityadas\n",
      "25\n"
     ]
    }
   ],
   "source": [
    "a=\"aditya\";b='das';c=12;d=13\n",
    "#string concation\n",
    "print(a+b)\n",
    "#int concation\n",
    "print(c+d)\n",
    "#string + int concataion \n",
    "#print(a+c) #it will show error cause int + string can't possible"
   ]
  }
 ],
 "metadata": {
  "kernelspec": {
   "display_name": "Python 3",
   "language": "python",
   "name": "python3"
  },
  "language_info": {
   "codemirror_mode": {
    "name": "ipython",
    "version": 3
   },
   "file_extension": ".py",
   "mimetype": "text/x-python",
   "name": "python",
   "nbconvert_exporter": "python",
   "pygments_lexer": "ipython3",
   "version": "3.12.1"
  }
 },
 "nbformat": 4,
 "nbformat_minor": 2
}
