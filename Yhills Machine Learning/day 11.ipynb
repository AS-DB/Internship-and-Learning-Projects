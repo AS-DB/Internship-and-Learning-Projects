{
 "cells": [
  {
   "cell_type": "markdown",
   "metadata": {},
   "source": [
    "Machine Learning in python"
   ]
  },
  {
   "cell_type": "markdown",
   "metadata": {},
   "source": [
    "1.Decision Tree:-\n",
    "\n",
    "    Decision Tree is a type of Supervised learning which used for classification and regression tasks. They work recursively partionationg the data into subsets based on the most significant at each node of the tree.\n",
    "\n",
    "                            or \n",
    "\n",
    "    Its Supervised Learning algorithm which used to classification.It decides the outcome by using the input of various things to predict the value.\n",
    "\n",
    "        e.g.\n",
    "        Whether forecasting uses humidity data , temperature and decision tree will take data and useds its supervised algorithm which predict the whether.\n",
    "\n",
    "2.Random Forest:-\n",
    "    Its a collection of decision tree.\n",
    "    e.g.\n",
    "        Banking system:-\n",
    "            It predicts that customer ginna take loan or not based on custmores expendiate and salary\n",
    "\n",
    "3.Logistic Regression:-\n",
    "    Its amchine learning algorithm which is basically used for binary classification.\n",
    "                or \n",
    "    Its based regression based on 1 and 0.\n"
   ]
  },
  {
   "cell_type": "code",
   "execution_count": null,
   "metadata": {},
   "outputs": [],
   "source": [
    "import pandas as pd\n",
    "import numpy as np\n",
    "from sklearn.model_selection import train_test_split\n",
    "from sklearn.tree import DecisionTreeClassifier\n",
    "from sklearn.metrics import accuracy_score, confusion_matrix, classification_report\n",
    "\n",
    "# Creating some data using a dictionary to store data\n",
    "data = {\n",
    "    'age': [25, 45, 35, 50, 23, 23, 33, 29, 65, 44, 38, 52, 48, 55, 60, 22, 28, 36, 40, 27],\n",
    "    'income': [50000, 60000, 70000, 100000, 45000, 65000, 48000, 120000, 80000, 62000, 11000, 90000, 100000, 95000, 42000, 52000, 75000, 85000, 47000, 56000],\n",
    "    'location': [1, 2, 2, 1, 1, 3, 1, 3, 2, 3, 2, 1, 3, 3, 1, 2, 3, 1, 2, 3],\n",
    "    'bought': [0, 1, 0, 1, 0, 1, 0, 1, 0, 1, 1, 1, 1, 0, 0, 0, 1, 1, 0, 0]\n",
    "}\n",
    "\n",
    "# Creating a DataFrame\n",
    "df = pd.DataFrame(data)\n",
    "\n",
    "# Targeting the features\n",
    "X = df[['age', 'income', 'location']]\n",
    "y = df['bought']\n",
    "\n",
    "# Splitting data into train and test sets\n",
    "X_train, X_test, y_train, y_test = train_test_split(X, y, test_size=0.3, random_state=100)\n",
    "\n",
    "# Initializing and training the classifier\n",
    "clf = DecisionTreeClassifier()\n",
    "clf.fit(X_train, y_train)\n",
    "\n",
    "# Making predictions\n",
    "y_pred = clf.predict(X_test)\n",
    "\n",
    "# Evaluating the model\n",
    "accuracy = accuracy_score(y_test, y_pred)\n",
    "conf_matrix = confusion_matrix(y_test, y_pred)\n",
    "class_report = classification_report(y_test, y_pred)\n",
    "\n",
    "# Printing the results\n",
    "print(f\"Accuracy: {accuracy}\")\n",
    "print(f\"Confusion matrix:\\n{conf_matrix}\")\n",
    "print(f\"Classification report:\\n{class_report}\")\n"
   ]
  },
  {
   "cell_type": "code",
   "execution_count": null,
   "metadata": {},
   "outputs": [],
   "source": [
    "#random forest\n",
    "\n",
    "from sklearn.ensemble import RandomForestClassifier\n",
    "import pandas as pd\n",
    "from sklearn.model_selection import train_test_split\n",
    "from sklearn.metrics import accuracy_score\n",
    "\n",
    "# Creating some data using a dictionary to store data\n",
    "data = {\n",
    "    'age': [25, 45, 35, 50, 23, 23, 33, 29, 65, 44, 38, 52, 48, 55, 60, 22, 28, 36, 40, 27],\n",
    "    'income': [50000, 60000, 70000, 100000, 45000, 65000, 48000, 120000, 80000, 62000, 11000, 90000, 100000, 95000, 42000, 52000, 75000, 85000, 47000, 56000],\n",
    "    'location': [1, 2, 2, 1, 1, 3, 1, 3, 2, 3, 2, 1, 3, 3, 1, 2, 3, 1, 2, 3],\n",
    "    'bought': [0, 1, 0, 1, 0, 1, 0, 1, 0, 1, 1, 1, 1, 0, 0, 0, 1, 1, 0, 0]\n",
    "}\n",
    "\n",
    "# Creating a DataFrame\n",
    "df = pd.DataFrame(data)\n",
    "\n",
    "# Targeting the features\n",
    "X = df[['age', 'income', 'location']]\n",
    "y = df['bought']\n",
    "\n",
    "# Splitting data into train and test sets\n",
    "X_train, X_test, y_train, y_test = train_test_split(X, y, test_size=0.3, random_state=100)\n",
    "\n",
    "#random classifier\n",
    "random_forest_clf=RandomForestClassifier(n_estimators=100,random_state=42)\n",
    "random_forest_clf.fit(X_train,y_train)\n",
    "\n",
    "y_pred= random_forest_clf.predict(X_test)\n",
    "accuracy_rf=accuracy_score(y_test,y_pred)\n",
    "print(f\"random forest accuracy:{accuracy_rf}\")  "
   ]
  },
  {
   "cell_type": "code",
   "execution_count": 5,
   "metadata": {},
   "outputs": [
    {
     "name": "stdout",
     "output_type": "stream",
     "text": [
      "[[0.08541123 0.91458877]]\n"
     ]
    },
    {
     "data": {
      "image/png": "[encoded data removed]",
      "text/plain": [
       "<Figure size 640x480 with 1 Axes>"
      ]
     },
     "metadata": {},
     "output_type": "display_data"
    }
   ],
   "source": [
    "#Logistic regression\n",
    "import numpy as np\n",
    "import matplotlib.pyplot as plt\n",
    "from sklearn.linear_model import LogisticRegression\n",
    "\n",
    "hours_studied=np.array([1,2,3,4,5,6,7,8,9,10]).reshape(-1,1)\n",
    "pass_fail=([0,0,0,0,1,1,1,1,1,1])\n",
    "\n",
    "model=LogisticRegression()\n",
    "model.fit(hours_studied,pass_fail)\n",
    "model.fit(hours_studied,pass_fail)\n",
    "\n",
    "hours_new=np.array([6.5]).reshape(-1,1)\n",
    "probability=model.predict_proba(hours_new)\n",
    "print(probability)\n",
    "\n",
    "plt.figure()\n",
    "plt.scatter(hours_studied,pass_fail,color=\"black\")\n",
    "plt.plot(hours_studied, model.predict_proba(hours_studied)[:,1],color=\"blue\")\n",
    "plt.xlabel(\"Hours Studied\")\n",
    "plt.ylabel(\"Pass/Fail\")\n",
    "plt.title(\"Logistic Regression\")\n",
    "plt.yticks([0,0.25,0.5,0.75,1])\n",
    "plt.show()"
   ]
  }
 ],
 "metadata": {
  "kernelspec": {
   "display_name": "Python 3",
   "language": "python",
   "name": "python3"
  },
  "language_info": {
   "codemirror_mode": {
    "name": "ipython",
    "version": 3
   },
   "file_extension": ".py",
   "mimetype": "text/x-python",
   "name": "python",
   "nbconvert_exporter": "python",
   "pygments_lexer": "ipython3",
   "version": "3.12.1"
  }
 },
 "nbformat": 4,
 "nbformat_minor": 2
}
