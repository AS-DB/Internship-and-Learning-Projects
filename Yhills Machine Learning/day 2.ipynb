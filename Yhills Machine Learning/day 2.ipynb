{
 "cells": [
  {
   "cell_type": "markdown",
   "metadata": {},
   "source": [
    "Machine Learning Using python"
   ]
  },
  {
   "cell_type": "markdown",
   "metadata": {},
   "source": [
    "List:- These are used to store multiple items in single variable.It can store same datatype and as well as different datatype.These are declared in square brackets [].\n",
    "\n",
    "It allows duplicate values in it and its mutable in nature\n",
    "\n",
    "Item can be accessed using its index number. listname[index number]\n",
    "\n",
    "we can also accese data using range function.e.g listname[starting:ending-1]\n",
    "\n",
    "List index start from 0 and end is -1\n",
    "\n",
    "Length of list can be found using len function. len(listname)\n",
    "\n",
    "We can change the item value using listname[index]=data"
   ]
  },
  {
   "cell_type": "code",
   "execution_count": null,
   "metadata": {},
   "outputs": [],
   "source": [
    "#list declaration\n",
    "list1 = [1,2,3,4]\n",
    "list2 = [\"a\",\"b\",\"c\",\"d\"]\n",
    "list3=[5,\"e\",6,\"f\"]\n",
    "#printing the output\n",
    "print(list3)"
   ]
  },
  {
   "cell_type": "code",
   "execution_count": null,
   "metadata": {},
   "outputs": [],
   "source": [
    "#getting element according to their index number\n",
    "list1 =[1,2,2,3]\n",
    "print(list1[0])\n",
    "print(list1[1])\n",
    "print(list1[-1])\n",
    "print(list1[-2])"
   ]
  },
  {
   "cell_type": "code",
   "execution_count": null,
   "metadata": {},
   "outputs": [],
   "source": [
    "#length of list \n",
    "list1=[1,2,2,3,4,5,56,6]\n",
    "print(len(list1))"
   ]
  },
  {
   "cell_type": "code",
   "execution_count": null,
   "metadata": {},
   "outputs": [],
   "source": [
    "#using range in :\n",
    "list1=[1,2,3,4,5,6,7,8]\n",
    "print(list1[1:3])"
   ]
  },
  {
   "cell_type": "code",
   "execution_count": null,
   "metadata": {},
   "outputs": [],
   "source": [
    "#accessing data using for loop\n",
    "list1=[1,2,3,4,5,5,6,7,8,9]\n",
    "for i in list1:\n",
    "    print(list1[i],end=\" \")\n",
    "t=200\n",
    "for i in list1:\n",
    "    if t in list1:\n",
    "        print(f\"\\nIts present there at index {list1[t]}\")\n",
    "        break\n",
    "    else:\n",
    "        print(\"\\nNot present in the list\")\n",
    "        break"
   ]
  },
  {
   "cell_type": "code",
   "execution_count": null,
   "metadata": {},
   "outputs": [],
   "source": [
    "#changing value in list\n",
    "list1=[1,2,3,4]\n",
    "\n",
    "list1[0]=6\n",
    "\n",
    "print(list1)\n",
    "\n",
    "list1.replace(0,9)"
   ]
  },
  {
   "cell_type": "markdown",
   "metadata": {},
   "source": [
    "List Functions"
   ]
  },
  {
   "cell_type": "code",
   "execution_count": null,
   "metadata": {},
   "outputs": [],
   "source": [
    "#adding elements using appends metheod\n",
    "list1=[]\n",
    "list1.append(\"banana\")\n",
    "list1.append(\"apple\")\n",
    "list1.append(\"orange\")\n",
    "print(list1)\n",
    "\n",
    "#adding elements in specific index\n",
    "list1.insert(2,\"cherry\")\n",
    "print(list1)\n",
    "\n",
    "#removing element\n",
    "list1.remove(\"cherry\")\n",
    "print(list1)\n",
    "\n",
    "#removing element using pop function it deletes specific value\n",
    "list1.pop()\n",
    "print(list1)\n",
    "\n",
    "list1.append(\"banana\")\n",
    "list1.append(\"apple\")\n",
    "list1.append(\"orange\")\n",
    "\n",
    "print(list1)\n",
    "\n",
    "list1.pop(2)\n",
    "print(list1)\n",
    "\n",
    "#sorting of list\n",
    "list1.sort\n",
    "print(list1)\n",
    "\n",
    "#reversing the list\n",
    "list1.reverse()\n",
    "print(list1)\n",
    "\n",
    "#counting a particular item\n",
    "print(list1.count(\"apple\"))\n"
   ]
  },
  {
   "cell_type": "markdown",
   "metadata": {},
   "source": [
    "Tuple:-\n",
    "It is collection of elements of same data type and as well as as different data type.But its immuutable in nature. It declares in parentheses () means its data can't be changed.\n",
    "\n",
    "Its have only two operation:-\n",
    "    len() -->print the lenght of tuple\n",
    "    count() -->to count particular data occurence in tuple\n",
    "\n",
    "in order to get the all items we would use range colon. tuplename(starting_index:ending_index -1)\n",
    "\n",
    "TO make changes in tuple we will use type cating to other data type likke list,set,dictionary,etc... then again convert the same variable to the tuple.\n"
   ]
  },
  {
   "cell_type": "code",
   "execution_count": null,
   "metadata": {},
   "outputs": [],
   "source": [
    "#declaring a tuple\n",
    "t1= (\"apple\",1,\"banana\",3)\n",
    "print(t1)\n",
    "#lenght of tuple\n",
    "print(len(t1))\n",
    "t1.count(1)"
   ]
  },
  {
   "cell_type": "code",
   "execution_count": null,
   "metadata": {},
   "outputs": [],
   "source": [
    "#question given printing all tup items\n",
    "\n",
    "tup=(\"apple\",\"mango\",\"banana\",\"kiwi\",\"peach\",\"papaya\",\"orange\")\n",
    "print(tup[0:8])"
   ]
  },
  {
   "cell_type": "code",
   "execution_count": null,
   "metadata": {},
   "outputs": [],
   "source": [
    "#adding elements in tuples indirectly type casting\n",
    "x=(\"apple\",\"banana\")\n",
    "y=list(x)\n",
    "y.append(\"kiwi\")\n",
    "x=tuple(y)\n",
    "print(x)"
   ]
  },
  {
   "cell_type": "code",
   "execution_count": null,
   "metadata": {},
   "outputs": [],
   "source": [
    "#adding two tuples\n",
    "t1=(2,23,4)\n",
    "t2=(1,2,3,4)\n",
    "t3=t1+t2\n",
    "print(t3)"
   ]
  },
  {
   "cell_type": "markdown",
   "metadata": {},
   "source": [
    "To delete the entire tuple we have del function. e.g del tuplename"
   ]
  },
  {
   "cell_type": "code",
   "execution_count": null,
   "metadata": {},
   "outputs": [],
   "source": [
    "#deleting tuple\n",
    "t1=(1,23,4)\n",
    "print(t1)\n",
    "del t1\n",
    "print(t1)"
   ]
  },
  {
   "cell_type": "markdown",
   "metadata": {},
   "source": [
    "Set:-\n",
    "It's collection of elements which are same kind and its doesn't contain any duplicate data in its.\n",
    "\n",
    "if any data have duplicates then it automatically removes it.\n",
    "\n",
    "It declares in () curly braces\n",
    "\n",
    "To add items in set we use setname.add()\n",
    "\n",
    "To remove item in set we use setname.remove(data)\n",
    "\n",
    "Discard is also used to remove if item is present then its remove if items is not present then it will not throw in error.\n"
   ]
  },
  {
   "cell_type": "code",
   "execution_count": null,
   "metadata": {},
   "outputs": [],
   "source": [
    "#declaration of set and elimination of duplicate value\n",
    "set1 ={1,2,2,2,3,4}\n",
    "print(set1)\n",
    "\n",
    "#size of set\n",
    "print(len(set1))\n",
    "\n",
    "#we can't access the data using index value cause it's doesn't support \n",
    "\n",
    "#accesing data in set using for loop\n",
    "for i in set1:\n",
    "    print(i,end=\" \")\n"
   ]
  },
  {
   "cell_type": "code",
   "execution_count": 56,
   "metadata": {},
   "outputs": [
    {
     "name": "stdout",
     "output_type": "stream",
     "text": [
      "{'apple', 'orange', 'Bannana'}\n",
      "{'apple', 'Bannana'}\n",
      "{'Bannana'}\n"
     ]
    }
   ],
   "source": [
    "#adding items in set\n",
    "set1= set()\n",
    "\n",
    "set1.add(\"orange\")\n",
    "set1.add(\"Bannana\")\n",
    "set1.add(\"apple\")\n",
    "\n",
    "print(set1)\n",
    "\n",
    "#removing data\n",
    "set1.remove(\"orange\")\n",
    "print(set1)\n",
    "set1.add(\"orange\")\n",
    "\n",
    "set1.remove(\"orange\")\n",
    "\n",
    "#discard data\n",
    "set1.discard(\"orange\")\n",
    "set1.discard(\"apple\")\n",
    "print(set1)"
   ]
  }
 ],
 "metadata": {
  "kernelspec": {
   "display_name": "Python 3",
   "language": "python",
   "name": "python3"
  },
  "language_info": {
   "codemirror_mode": {
    "name": "ipython",
    "version": 3
   },
   "file_extension": ".py",
   "mimetype": "text/x-python",
   "name": "python",
   "nbconvert_exporter": "python",
   "pygments_lexer": "ipython3",
   "version": "3.12.1"
  }
 },
 "nbformat": 4,
 "nbformat_minor": 2
}
