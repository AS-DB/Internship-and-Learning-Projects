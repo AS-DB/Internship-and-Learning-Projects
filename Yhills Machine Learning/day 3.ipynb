{
 "cells": [
  {
   "cell_type": "markdown",
   "metadata": {},
   "source": [
    "Machine Learning with python"
   ]
  },
  {
   "cell_type": "markdown",
   "metadata": {},
   "source": [
    "Dictionary:-\n",
    "\n",
    "Its used to store key and value which are mutable in nature and its in ordered pair. \n",
    "\n",
    "It declares with {} curly brackets. its an empty dictionary\n",
    "{key:value} \n",
    "\n",
    "It can have same value but not have same key.\n",
    "\n",
    "String value should store in double quotes\n",
    "\n",
    "\n",
    "function in dictionary:-\n",
    "\n",
    "we can access value using-> dictname[key]\n",
    "we can update data using -> dictname[key]= value\n",
    "we can find lenght of dictionary->len(dictname)\n",
    "\n",
    "Multivalued in dictionary:-\n",
    "\n",
    "we can specify multivalued dictionary using list and accessing elements->dictname[key][index_of_list_item]\n",
    "\n",
    "we can also access element using get method->dictname.get(key)\n",
    "\n",
    "we can print all values by-> dictname.values()\n",
    "\n",
    "we can print all keys by -> dictname.keys()\n",
    "\n",
    "we can add elements by -> dictname[key] = value\n",
    "\n",
    "we clear whole dictionary and making it null bu using-> dictname.clear()\n",
    "\n",
    "we can delete particular data or dictionary using del-->\n",
    "1.for deleting particular data -> del dictname[key]\n",
    "2.for deleting entire dictionary -> del dictname\n",
    "\n",
    "for i in dictname:\n",
    "    print(keys=i,values=dictname[i])"
   ]
  },
  {
   "cell_type": "code",
   "execution_count": null,
   "metadata": {},
   "outputs": [],
   "source": [
    "#declaration of dictionary\n",
    "car= {\n",
    "    \"modal\":\"mustang\",\n",
    "    \"brand\":\"ford\",\n",
    "    \"year\":1928,\n",
    "    \"color\":\"red\"\n",
    "}\n",
    "\n",
    "print(car)\n",
    "\n",
    "#accesing the value from dictionary using key\n",
    "print(car[\"color\"])\n",
    "\n",
    "#update value in dictionary\n",
    "car[\"year\"] =2000\n",
    "print(car)\n",
    "\n",
    "#lenght of dictionary\n",
    "print(len(car))"
   ]
  },
  {
   "cell_type": "code",
   "execution_count": null,
   "metadata": {},
   "outputs": [],
   "source": [
    "#multivalued value in dict\n",
    "dict1 ={\n",
    "    \"modal\":\"mustung\",\n",
    "    \"brand\":\"farari\",\n",
    "    \"colors\":[\"red\",\"blue\",\"green\"]\n",
    "}\n",
    "\n",
    "print(dict1[\"colors\"])\n",
    "#to access particular value in dictionary\n",
    "print(dict1[\"colors\"][0])\n",
    "\n",
    "#get function \n",
    "dict1.get(\"colors\")\n",
    "\n",
    "#printing key\n",
    "print(dict1.keys())\n",
    "\n",
    "#printing values\n",
    "print(dict1.values())\n",
    "\n",
    "#printting items={(key,value)}\n",
    "print(dict1.items())\n",
    "\n",
    "#adding elements dictionary\n",
    "dict1[\"fuel\"]=\"electric\"\n",
    "print(dict1)\n",
    "\n",
    "#deleting value from dictionary\n",
    "del dict1[\"fuel\"]\n",
    "print(dict1)\n",
    "\n",
    "#deleting entire dictionary\n",
    "\n",
    "try:\n",
    "    del dict1\n",
    "except Exception as e:\n",
    "    print(\"succesfully deleted\")\n",
    "finally:\n",
    "    print(\"deleted..\")\n",
    "\n",
    "#clear funtion which will clear the dictionary\n",
    "dict2={1:\"a\",2:\"b\"}\n",
    "print(dict2)\n",
    "\n",
    "dict2.clear()\n",
    "print(dict2)\n",
    "dict2={1:\"a\",2:\"b\"}\n",
    "\n",
    "#printing key\n",
    "for i in dict2:\n",
    "    print(i,end=' ')\n",
    "print()\n",
    "#printing value \n",
    "for i in dict2:\n",
    "    print(dict2[i],end=' ')"
   ]
  },
  {
   "cell_type": "markdown",
   "metadata": {},
   "source": [
    "loops:\n",
    "for loop:- we execute program till satisfy the conditon, here we already know the iteration count.\n",
    "\n",
    "for i in range(start,end+1,steps):\n",
    "    bloack of code\n",
    "\n",
    "while loop:- its also same as for loop but have different syntax and we we use this if we don't know the iteration count in initially.\n",
    "\n",
    "    i = intialization\n",
    "    while(i condition end):\n",
    "    block of code\n",
    "    i+=i\n",
    "\n",
    "break:- It will terminate the loop if the condition part is matched then stopped the loop from part.\n",
    "\n",
    "continue:- It will skip the current iteration if condition statify\n"
   ]
  },
  {
   "cell_type": "code",
   "execution_count": 46,
   "metadata": {},
   "outputs": [
    {
     "name": "stdout",
     "output_type": "stream",
     "text": [
      "helo\n",
      "helo\n",
      "helo\n",
      "helo\n"
     ]
    }
   ],
   "source": [
    "i=0\n",
    "while(i<=3):\n",
    "    print(\"helo\")\n",
    "    i+=1"
   ]
  },
  {
   "cell_type": "code",
   "execution_count": 1,
   "metadata": {},
   "outputs": [
    {
     "name": "stdout",
     "output_type": "stream",
     "text": [
      "A d i t y a \n",
      "A d i \n",
      "A d i t y a "
     ]
    }
   ],
   "source": [
    "#for loop in string\n",
    "for i in \"Aditya\":\n",
    "    print(i,end=' ')\n",
    "\n",
    "\n",
    "print()\n",
    "#break statement\n",
    "for i in \"Aditya\":\n",
    "    print(i,end=' ')\n",
    "    if i==\"i\":\n",
    "        break\n",
    "\n",
    "print()\n",
    "#continue statement\n",
    "for t in \"Aditya\":\n",
    "    print(t,end=\" \")\n",
    "    if t==\"i\":\n",
    "        continue  "
   ]
  }
 ],
 "metadata": {
  "kernelspec": {
   "display_name": "Python 3",
   "language": "python",
   "name": "python3"
  },
  "language_info": {
   "codemirror_mode": {
    "name": "ipython",
    "version": 3
   },
   "file_extension": ".py",
   "mimetype": "text/x-python",
   "name": "python",
   "nbconvert_exporter": "python",
   "pygments_lexer": "ipython3",
   "version": "3.12.1"
  }
 },
 "nbformat": 4,
 "nbformat_minor": 2
}
