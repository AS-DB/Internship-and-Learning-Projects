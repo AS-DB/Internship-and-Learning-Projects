{
 "cells": [
  {
   "cell_type": "markdown",
   "metadata": {},
   "source": [
    "MAchine Learning with python"
   ]
  },
  {
   "cell_type": "markdown",
   "metadata": {},
   "source": [
    "\n",
    "directory:-\n",
    "A directory is collection fo files and subdirectories.\n",
    "\n",
    "File:-\n",
    "File is like some data store in computure storage as unite form.\n",
    "\n",
    "File handling in python:-\n",
    "\n",
    "mode:-\n",
    "mode helps to open files in a different way which we want to our according\n",
    " a=append,a+=appends and read ,r=read,r+ =read and write,w=write,w+=wite and read,x= to create a new file\n",
    "                    To create a new file just start with a or a+ or w or w+ or we can use 'x' to create a file\n",
    "\n",
    "1. open(\"filename.extension\",mode):- TO open a file with mode\n",
    "IF file present in other diractory then we can simply give its path\n",
    "\n",
    "2. variable_name_for_file.close():- It will close the file after operation done on file.\n",
    "\n",
    "3. variable_name_for_file.read():- It will read whole content of  file. To read specific charater number we use variable_name_for_file.read(number of character)\n",
    "\n",
    "4. variable_name_for_file.readline():- It will read single line. To read specific  number of lines we use variable_name_for_file.readline(number of line)\n",
    "\n",
    "5. variable_name_for_file.write():- It will write a single character or single line in file.\n",
    "\n",
    "6. variable_name_for_file.writeline():- It will write a  single line in file.\n",
    "\n",
    "7. variable_name_for_file.writelines():- It will write n number of  lines in file.\n",
    "\n",
    "8. deleting a file using os module:-\n",
    "import os\n",
    "os.remove(\"file-name.extension\")\n",
    "\n",
    "9. checking existance of file using os module:-\n",
    "import os \n",
    "os.path.exists(\"file-name.extension\")\n",
    "\n",
    "10. variable_name_for_file.tell()= It will tell the current cursor positon from which it will continue to end of line of file.\n",
    "\n",
    "11. variable_name_for_file.seek(int)= It will change the position of cursor in file.\n",
    "\n",
    "\n",
    "advamced file mode(Binary mode):-Non-string file\n",
    "This is useful for handling non-text files, such as images, audio files, and other binary data formats.\n",
    "\n",
    "Here are the different modes that can be used with b:\n",
    "rb: Read binary – Opens the file for reading in binary mode.\n",
    "\n",
    "wb: Write binary – Opens the file for writing in binary mode. If the file exists, it truncates it to 0 bytes. If it doesn't exist, it creates a new file.\n",
    "\n",
    "ab: Append binary – Opens the file for appending in binary mode. All writes are added to the end of the file.\n",
    "\n",
    "r+b or rb+: Read and write binary – Opens the file for both reading and writing in binary mode.\n",
    "\n",
    "w+b or wb+: Write and read binary – Opens the file for both writing and reading in binary mode. If the file exists, it truncates it to 0 bytes. If it doesn't exist, it creates a new file.\n",
    "\n",
    "a+b or ab+: Append and read binary – Opens the file for both appending and reading in binary mode."
   ]
  },
  {
   "cell_type": "markdown",
   "metadata": {},
   "source": [
    "Reading of files"
   ]
  },
  {
   "cell_type": "code",
   "execution_count": null,
   "metadata": {},
   "outputs": [],
   "source": [
    "#opening a new file\n",
    "a=open(\"samplefile.txt\",\"r\")\n",
    "#reading the file \n",
    "print(a.read())\n",
    "#closing the file\n",
    "a.close()"
   ]
  },
  {
   "cell_type": "code",
   "execution_count": null,
   "metadata": {},
   "outputs": [],
   "source": [
    "#pyfile working [Readingfile.py]\n",
    "\n",
    "#opening a new file\n",
    "#it will through error if it already created once\n",
    "'''\n",
    "a=open(\"samplefile1.txt\",\"x\")\n",
    "a.close()\n",
    "'''\n",
    "f=open(\"samplefile1.txt\",\"r+\")\n",
    "#reading the entire file \n",
    "print(f.read())\n",
    "\n",
    "#reading the specific character\n",
    "print(f.read(3))\n",
    "\n",
    "#reading single line\n",
    "print(f.readline())\n",
    "\n",
    "#reading specific lines\n",
    "print(f.readline(3))\n",
    "\n",
    "#reading entire lines in file\n",
    "print(f.readlines())\n",
    "\n",
    "#closing the file\n",
    "f.close()"
   ]
  },
  {
   "cell_type": "markdown",
   "metadata": {},
   "source": [
    "Writing in files"
   ]
  },
  {
   "cell_type": "code",
   "execution_count": null,
   "metadata": {},
   "outputs": [],
   "source": [
    "#pyfile working [writingfile.py]\n",
    "#opening of file\n",
    "a=open(\"sample.txt\",\"a+\")\n",
    "#writing a single word in file\n",
    "a.write('a')\n",
    "#writing a single line in file\n",
    "a.write(\"hello\")\n",
    "#writing a 'n' number of lines in file\n",
    "l='''hi my name\n",
    "is \n",
    "aditya das\n",
    "'''\n",
    "a.writelines(l) \n",
    "a.close()"
   ]
  },
  {
   "cell_type": "markdown",
   "metadata": {},
   "source": [
    "Deleting a file and Checking its existance"
   ]
  },
  {
   "cell_type": "code",
   "execution_count": null,
   "metadata": {},
   "outputs": [],
   "source": [
    "import os\n",
    "#deleting the file\n",
    "os.remove(\"file_name.extension\")\n",
    "#checking file exists\n",
    "os.path.exists(\"file_name.extension\")"
   ]
  },
  {
   "cell_type": "markdown",
   "metadata": {},
   "source": [
    "tell and seek method"
   ]
  },
  {
   "cell_type": "code",
   "execution_count": null,
   "metadata": {},
   "outputs": [],
   "source": []
  }
 ],
 "metadata": {
  "kernelspec": {
   "display_name": "Python 3",
   "language": "python",
   "name": "python3"
  },
  "language_info": {
   "codemirror_mode": {
    "name": "ipython",
    "version": 3
   },
   "file_extension": ".py",
   "mimetype": "text/x-python",
   "name": "python",
   "nbconvert_exporter": "python",
   "pygments_lexer": "ipython3",
   "version": "3.12.1"
  }
 },
 "nbformat": 4,
 "nbformat_minor": 2
}
