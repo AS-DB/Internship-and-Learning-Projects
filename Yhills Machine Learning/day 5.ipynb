{
 "cells": [
  {
   "cell_type": "markdown",
   "metadata": {},
   "source": [
    "Machine Learning using python"
   ]
  },
  {
   "cell_type": "markdown",
   "metadata": {},
   "source": [
    "Numpy Module:-\n",
    "\n",
    "Its an python library which is used to work with array.\n",
    "Array-It collection of same datatype in in single variable.\n",
    "\n",
    "\n",
    "Numpy has function for working in domain of linear algebra, fourier transform and matrices.\n"
   ]
  },
  {
   "cell_type": "markdown",
   "metadata": {},
   "source": [
    "Numpy installation:\n",
    "\n",
    "pip:- full form(preffered installer program)\n",
    "\n",
    "cmd command:-\n",
    "1. pip install numpy\n"
   ]
  },
  {
   "cell_type": "markdown",
   "metadata": {},
   "source": [
    "Numpy funtion:-\n",
    "1. declaring a ndarray (n-dimensional array)\n",
    "2. To check the dimension of array arrayname.ndim\n",
    "3. To convert ndarry from one formm to another form while declaration\n",
    "    arrayname = ndarry([],ndmin=int)\n",
    "\n",
    "4. accesing elemment using element\n",
    "\n",
    "    1d array= arrayname[int]\n",
    "    2d array= arrayname[int_of_list,int_of_element]\n",
    "    3d array = arrayname[int_slice,int_of_list,int_of_element]\n",
    "\n",
    "\n",
    "8. Slicing of array:- Means take particular element using slicing method.\n",
    "    1d_array[start:end:step]\n",
    "    2d_array[lisint,start:end:step]\n",
    "    3d_array[slice,listint,start:end:step]\n",
    "\n",
    "6. Shape of array= It refers to number of elements in each dimension\n",
    "    array_name.shape\n",
    "\n",
    "7. Reshaping of array= In here we change the size of an array acording to ous. MEans we can convert 1d array to 2d array\n",
    "        It takes two arguments as \n",
    "        array_name(argument1,argument2)\n",
    "\n",
    "        argument1= number of elements\n",
    "        argumnet=number of elements\n",
    "8. Iterating every element of array in form of list output using for loop\n",
    "\n",
    "9. Concatation of n number of array in single array:-\n",
    "    array_name = numpy.concatation((arrayname1,arrayname2,...))"
   ]
  },
  {
   "cell_type": "code",
   "execution_count": null,
   "metadata": {},
   "outputs": [],
   "source": [
    "#importing numpy module\n",
    "\n",
    "import numpy\n",
    "\n",
    "#using numpy.array to declare ndarrray\n",
    "\n",
    "arr= numpy.array([1,2,3,4,5])\n",
    "print(arr)\n",
    "\n",
    "#type of arr\n",
    "type(arr)"
   ]
  },
  {
   "cell_type": "code",
   "execution_count": 1,
   "metadata": {},
   "outputs": [
    {
     "name": "stdout",
     "output_type": "stream",
     "text": [
      "0 0-dimensional array\n",
      "[1 2 3 4] 1-dimensional array\n",
      "[[1 2 3 4]\n",
      " [5 6 7 8]] 2-dimensional array\n",
      "[[[1 2 3]\n",
      "  [3 3 4]\n",
      "  [5 3 6]]] 3-dimensional array\n",
      "Dimensions of arr0: 0\n",
      "Dimensions of arr1: 1\n",
      "Dimensions of arr2: 2\n",
      "Dimensions of arr3: 3\n",
      "Dimensions of arr4= 4\n",
      "Dimensions of arr4= 5\n",
      "[[[[[ 1  2 34]]]]]\n",
      "1\n",
      "2\n",
      "8\n"
     ]
    }
   ],
   "source": [
    "import numpy as np\n",
    "# In the above, we use the alias numpy as np\n",
    "\n",
    "arr0 = np.array(0)  \n",
    "arr1 = np.array([1, 2, 3, 4])  \n",
    "arr2 = np.array([[1, 2, 3, 4], [5, 6, 7, 8]])  \n",
    "arr3 = np.array([[[1, 2,3], [3,3, 4], [5,3, 6]]])  \n",
    "arr4= np.array([[[[1],[2],[3],[4]]]])\n",
    "arr5= np.array([[[[[1,2],[2,3]]]]])\n",
    "\n",
    "print(arr0, \"0-dimensional array\")\n",
    "print(arr1, \"1-dimensional array\")\n",
    "print(arr2, \"2-dimensional array\")\n",
    "print(arr3, \"3-dimensional array\")\n",
    "\n",
    "# To check the dimension of the array, we use the function arrayname.ndim\n",
    "print(\"Dimensions of arr0:\", arr0.ndim)\n",
    "print(\"Dimensions of arr1:\", arr1.ndim)\n",
    "print(\"Dimensions of arr2:\", arr2.ndim)\n",
    "print(\"Dimensions of arr3:\", arr3.ndim)\n",
    "print(\"Dimensions of arr4=\",arr4.ndim)\n",
    "print(\"Dimensions of arr4=\",arr5.ndim)\n",
    "\n",
    "\n",
    "#converting 1 d array to 7 d array\n",
    "arr12 = np.array([1,2,34],ndmin=5)\n",
    "print(arr12)\n",
    "\n",
    "#accesing a element of 1d array\n",
    "arr1 = np.array([1, 2, 3, 4])  # 1-dimensional array\n",
    "print(arr1[0])\n",
    "\n",
    "#accessing a element from 2d array from 1st array and second element\n",
    "arr2 = np.array([[1, 2, 3, 4], [5, 6, 7, 8]])\n",
    "print(arr2[0,1]) #here 1st argument for list 1 and second argument for accessin element\n",
    "\n",
    "#accessing a element from 3d array from 2nd list and second element\n",
    "arr3 = np.array([\n",
    "    [[1,2,3], [4,5,6]],\n",
    "    [[1,2,3], [7,8,9]]\n",
    "    ])  \n",
    "print(arr3[1,1,1]) #need practice in 3d"
   ]
  },
  {
   "cell_type": "code",
   "execution_count": null,
   "metadata": {},
   "outputs": [],
   "source": [
    "#slicing in array\n",
    "import numpy as n\n",
    "\n",
    "array1 = n.array([1,2,3,4,5,6,7,8])\n",
    "print(array1[1:4])\n",
    "\n",
    "#slicing the array using skipping in some part\n",
    "print(array1[::2])\n",
    "\n",
    "#slicing of 2d array\n",
    "array2 = n.array([[1,2,3,4,5],[6,7,8,9,10]])\n",
    "print(array2[1,:4])"
   ]
  },
  {
   "cell_type": "code",
   "execution_count": null,
   "metadata": {},
   "outputs": [],
   "source": [
    "#shape of array:- argument 1st say numbr of list and 2nd argument tell number of elements\n",
    "import numpy as n\n",
    "\n",
    "arr = n.array([[1,2,3,4],[5,6,7,8]])\n",
    "print(arr.shape)"
   ]
  },
  {
   "cell_type": "code",
   "execution_count": null,
   "metadata": {},
   "outputs": [],
   "source": [
    "#reshaping of array\n",
    "import numpy as n\n",
    "arr=n.array([1,2,3,4,5,6,7,8,9])\n",
    "new_array= arr.reshape(3,3) #first argument take list number and 2nd argument take number of element\n",
    "\n",
    "print(new_array)\n",
    "\n",
    "#reshaping of array (slice,row,column) or (slice,list,element)\n",
    "arr2=n.array([1,2,3,4,5,6,7,8,9,10,11,12])\n",
    "new_array2= arr2.reshape(2,3,2)\n",
    "print(new_array2)"
   ]
  },
  {
   "cell_type": "code",
   "execution_count": null,
   "metadata": {},
   "outputs": [],
   "source": [
    "#iterating in ndarray\n",
    "import numpy as n\n",
    "array1= n.array([\n",
    "    [1,2,3],\n",
    "    [4,5,6]\n",
    "])\n",
    "\n",
    "for x in array1:\n",
    "    print(x,sep=\" \")"
   ]
  },
  {
   "cell_type": "code",
   "execution_count": null,
   "metadata": {},
   "outputs": [],
   "source": [
    "#Joining two or more arrays in one form\n",
    "import numpy as n\n",
    "array1 = n.array([1,2,3,4])\n",
    "array2= n.array([5,6,7,8])\n",
    "array3=n.array([10,11])\n",
    "\n",
    "array4= n.concatenate((array1,array2,arr))\n",
    "print(array4)"
   ]
  }
 ],
 "metadata": {
  "kernelspec": {
   "display_name": "Python 3",
   "language": "python",
   "name": "python3"
  },
  "language_info": {
   "codemirror_mode": {
    "name": "ipython",
    "version": 3
   },
   "file_extension": ".py",
   "mimetype": "text/x-python",
   "name": "python",
   "nbconvert_exporter": "python",
   "pygments_lexer": "ipython3",
   "version": "3.12.1"
  }
 },
 "nbformat": 4,
 "nbformat_minor": 2
}
