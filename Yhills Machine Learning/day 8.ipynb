{
 "cells": [
  {
   "cell_type": "markdown",
   "metadata": {},
   "source": [
    "Machinie learning using python"
   ]
  },
  {
   "cell_type": "markdown",
   "metadata": {},
   "source": [
    "Statistics:-\n",
    "\n",
    "Statistics is the study of the collection, analysis, interpretation, presentation, and organization of data.\n",
    "\n",
    "in python we can achieve it by  stastistics module\n",
    "\n",
    "\n",
    "1.Mean:- Its a average value for all the value\n",
    "        sum of value/number of value\n",
    "\n",
    "        variable=list\n",
    "        display_variable=\n",
    "        \n",
    "2.Median:-Its a middle value in a set after sorting the value\n",
    "\n",
    "3.Mode:- Most occurence value in set or repetative value in max in set\n",
    "\n",
    "4.Standard deviation:-Its a measure how spread out or dispersed the values in a set of data are.It tells you how much the values in your data set differ from the mean of the data.\n",
    "                        or \n",
    "basic difference value between main data and average data value\n",
    "         \n",
    "          here we use numpy library to find standard deviation\n",
    "\n",
    "          import numpy\n",
    "          display_variable=numpy.std(list)\n",
    "          print(display_variable)        "
   ]
  },
  {
   "cell_type": "code",
   "execution_count": 16,
   "metadata": {},
   "outputs": [
    {
     "name": "stdout",
     "output_type": "stream",
     "text": [
      "2.5\n",
      "2.5\n"
     ]
    }
   ],
   "source": [
    "#finding the mean of number using statistic module\n",
    "import statistics\n",
    "\n",
    "value=[1,2,3,4]\n",
    "m=statistics.mean(value)\n",
    "print(m)\n",
    "\n",
    "#finding the mean of number using math module\n",
    "value=[1,2,3,4]\n",
    "value1=0\n",
    "for i in value:\n",
    "    value1+=i\n",
    "\n",
    "print(value1/len(value))"
   ]
  },
  {
   "cell_type": "code",
   "execution_count": 20,
   "metadata": {},
   "outputs": [
    {
     "name": "stdout",
     "output_type": "stream",
     "text": [
      "8\n"
     ]
    }
   ],
   "source": [
    "#finding the median of a set\n",
    "import statistics as st\n",
    "\n",
    "value=[11,22,33,4,5,6,7,8,9]\n",
    "m1=st.median(value)\n",
    "print(m1)"
   ]
  },
  {
   "cell_type": "code",
   "execution_count": 21,
   "metadata": {},
   "outputs": [
    {
     "name": "stdout",
     "output_type": "stream",
     "text": [
      "8\n"
     ]
    }
   ],
   "source": [
    "#finding the mode of set\n",
    "\n",
    "import statistics as st\n",
    "\n",
    "value=[1,2,3,4,5,6,7,7,8,8,8,9]\n",
    "m1=st.mode(value)\n",
    "print(m1)"
   ]
  },
  {
   "cell_type": "code",
   "execution_count": 24,
   "metadata": {},
   "outputs": [
    {
     "name": "stdout",
     "output_type": "stream",
     "text": [
      "1.707825127659933\n"
     ]
    }
   ],
   "source": [
    "#finding standard deviation using numpy\n",
    "import numpy as np\n",
    "value=[1,2,3,4,5,6]\n",
    "\n",
    "standard_deviation=np.std(value)\n",
    "print(standard_deviation)"
   ]
  },
  {
   "cell_type": "markdown",
   "metadata": {},
   "source": [
    "1.Machine Learning:-\n",
    "    Machine learning refers to which machines learns from dataset and make decision according its leaning method.\n",
    "\n",
    "2.Types of Learning:-\n",
    "\n",
    "    A.Supervised learning (Goal:- predication of output using input):- Its a type of learning where the model is trained using labeled data.Labeled data means that each training example is paired with an output.\n",
    "\n",
    "        it have two phases:-\n",
    "        1.Training phase:- comparing the data with output data and labeled data.\n",
    "        2.Predication phase:- try to predict the value using input of data.\n",
    "\n",
    "        Common Algorithm used in Supervised Learning:-\n",
    "        1.Linear regression\n",
    "        2.Logistic regression\n",
    "        3.Decision tree\n",
    "        4.Support vector machine\n",
    "        5.Neural network\n",
    "        6.random Forest\n",
    "\n",
    "    B.Unsupevised learning:-\n",
    "        (Goal:- Finding or discover the patterns in dataset by classifing  it )\n",
    "        Its a type of learning where the model is the model is trained using unlabeled data.Unlabeled data means that data doesn't comes with predefined lables or categories.\n",
    "\n",
    "        e.g. of unsupervised learning\n",
    "            1. clusttering:- Finding patterns and provide recommandations according to it.\n",
    "                e.g. Grouping customer using their purchase history \n",
    "        \n",
    "        Common Algorithms used in Unspervised Learning:-\n",
    "        1.K means clustering\n",
    "        2.Hierarchical Clustering\n",
    "        3.Principle Component Analysis\n",
    "        4.t-Distributed Stochastic Neighbor Embedding(t-SNE)\n",
    "\n",
    "        3.Regression:-\n",
    "        In machine learning it is used to predict the outcome of future events.\n",
    "\n",
    "            Types of regression:-\n",
    "                A.Linear regression:-\n",
    "                    It is the relationship between the data points to draw staraight line through all of them and this straight line can be used to predict the future values.\n",
    "                \n",
    "                B.Logistic regression:-\n",
    "                    It aims to solve the classification problem.It does this by predictiong categorical outcomes, unlike linear regression that predicates continuous.\n"
   ]
  }
 ],
 "metadata": {
  "kernelspec": {
   "display_name": "Python 3",
   "language": "python",
   "name": "python3"
  },
  "language_info": {
   "codemirror_mode": {
    "name": "ipython",
    "version": 3
   },
   "file_extension": ".py",
   "mimetype": "text/x-python",
   "name": "python",
   "nbconvert_exporter": "python",
   "pygments_lexer": "ipython3",
   "version": "3.12.1"
  }
 },
 "nbformat": 4,
 "nbformat_minor": 2
}
